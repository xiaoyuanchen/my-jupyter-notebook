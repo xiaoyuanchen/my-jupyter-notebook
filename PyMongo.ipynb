{
 "cells": [
  {
   "cell_type": "markdown",
   "id": "c3209970-c36c-4e38-aff2-419e7e2423d5",
   "metadata": {},
   "source": [
    "基于pymongo的MongoDB系列操作，会不定时补充更新"
   ]
  },
  {
   "cell_type": "code",
   "execution_count": 1,
   "id": "03d9662a-3930-43b7-92f0-d3f31a1efacb",
   "metadata": {},
   "outputs": [],
   "source": [
    "from pymongo import MongoClient\n",
    "import pymongo\n",
    "import datetime"
   ]
  },
  {
   "cell_type": "code",
   "execution_count": 2,
   "id": "df2a634c-351f-4d9b-a069-210b0a44dc67",
   "metadata": {},
   "outputs": [],
   "source": [
    "## 连接本地 MongoDB\n",
    "client = MongoClient(\"mongodb://localhost:27017/\") #本地库参数可省缺"
   ]
  },
  {
   "cell_type": "code",
   "execution_count": 3,
   "id": "ded6b822-2f51-4f53-a8cc-e7b400d1d22c",
   "metadata": {},
   "outputs": [
    {
     "data": {
      "text/plain": [
       "['admin', 'config', 'local', 'study']"
      ]
     },
     "execution_count": 3,
     "metadata": {},
     "output_type": "execute_result"
    }
   ],
   "source": [
    "## 数据库名\n",
    "client.list_database_names()"
   ]
  },
  {
   "cell_type": "code",
   "execution_count": 4,
   "id": "7c30ad42-b9b1-4531-9e81-f254cda7043d",
   "metadata": {},
   "outputs": [
    {
     "data": {
      "text/plain": [
       "['mongo_study_sites']"
      ]
     },
     "execution_count": 4,
     "metadata": {},
     "output_type": "execute_result"
    }
   ],
   "source": [
    "## 集合（表）名\n",
    "client.study.list_collection_names()"
   ]
  },
  {
   "cell_type": "markdown",
   "id": "140a03b6-8939-4eda-991d-2cfd15ca5558",
   "metadata": {},
   "source": [
    "## 零、MongoDB结构"
   ]
  },
  {
   "cell_type": "markdown",
   "id": "4963d27e-026f-4ac1-b9ef-8b88f6fa1a57",
   "metadata": {},
   "source": [
    "> MongoDB\n",
    ">> database_1 数据库1  \n",
    ">> ……  \n",
    ">> database_n 数据库n    \n",
    ">>> collection_1 表1     \n",
    ">>> ……  \n",
    ">>> collection_2 表n  \n",
    ">>>> document_1  行数据1   \n",
    ">>>> ……  \n",
    ">>>> document_n 行数据n "
   ]
  },
  {
   "cell_type": "markdown",
   "id": "f540c70b-513c-4e7b-9d74-3b8a00cd5158",
   "metadata": {},
   "source": [
    "## 一、增"
   ]
  },
  {
   "cell_type": "code",
   "execution_count": 22,
   "id": "d974bf58-c71e-4c50-80d6-57f69caa7e90",
   "metadata": {},
   "outputs": [
    {
     "name": "stdout",
     "output_type": "stream",
     "text": [
      "{'_id': ObjectId('61d6ea09082b9beb7bca8b08'), 'num': 1, 'desc': '菜鸟教程：MongoDB教程', 'url': 'https://www.runoob.com/mongodb/mongodb-tutorial.html'}\n"
     ]
    }
   ],
   "source": [
    "## 1、新增数据库、集合（插入文档即创建，是无法创建空库空集合的）\n",
    "docs = {'num': 1,\n",
    "       'desc': '菜鸟教程：MongoDB教程',\n",
    "       'url': 'https://www.runoob.com/mongodb/mongodb-tutorial.html'}\n",
    "client.study.mongo_study_sites.insert_one(docs) # 新增一条文档\n",
    "\n",
    "for i in client.study.mongo_study_sites.find():\n",
    "    print(i)"
   ]
  },
  {
   "cell_type": "code",
   "execution_count": 23,
   "id": "c09e8c5a-45ad-4b22-b53b-2376b05ce2f4",
   "metadata": {},
   "outputs": [
    {
     "name": "stdout",
     "output_type": "stream",
     "text": [
      "{'_id': ObjectId('61d6ea09082b9beb7bca8b08'), 'num': 1, 'desc': '菜鸟教程：MongoDB教程', 'url': 'https://www.runoob.com/mongodb/mongodb-tutorial.html'}\n",
      "{'_id': ObjectId('61d6ea09082b9beb7bca8b09'), 'num': 1, 'desc': 'MongoDB菜鸟教程', 'url': 'https://www.runoob.com/mongodb/mongodb-tutorial.html'}\n",
      "{'_id': ObjectId('61d6ea09082b9beb7bca8b0a'), 'num': 2, 'desc': 'PyMongo官方教程', 'url': 'https://pymongo.readthedocs.io/en/stable/index.html', 'date': datetime.datetime(2022, 1, 5, 23, 8)}\n",
      "{'_id': ObjectId('61d6ea09082b9beb7bca8b0b'), 'num': 3, 'desc': 'PyMongo菜鸟教程', 'url': 'https://www.runoob.com/python3/python-mongodb.html'}\n"
     ]
    }
   ],
   "source": [
    "## 2、新增文档：同时插入多条文档 Bulk Inserts\n",
    "docs_list = [{'num': 1,\n",
    "              'desc': 'MongoDB菜鸟教程',\n",
    "              'url': 'https://www.runoob.com/mongodb/mongodb-tutorial.html'},\n",
    "             {'num': 2,\n",
    "              'desc': 'PyMongo官方教程',\n",
    "              'url': 'https://pymongo.readthedocs.io/en/stable/index.html',\n",
    "              'date': datetime.datetime(2022, 1, 5, 23, 8)},\n",
    "             {'num': 3,\n",
    "              'desc': 'PyMongo菜鸟教程',\n",
    "              'url': 'https://www.runoob.com/python3/python-mongodb.html'}\n",
    "            ]\n",
    "client.study.mongo_study_sites.insert_many(docs_list)\n",
    "\n",
    "for i in client.study.mongo_study_sites.find():\n",
    "    print(i)"
   ]
  },
  {
   "cell_type": "markdown",
   "id": "9fae0db5-ba51-49dc-97dd-c2748954d36c",
   "metadata": {},
   "source": [
    "## 二、删"
   ]
  },
  {
   "cell_type": "code",
   "execution_count": 24,
   "id": "dc21b63a-6b39-40c5-8a55-f482986e5399",
   "metadata": {},
   "outputs": [
    {
     "name": "stdout",
     "output_type": "stream",
     "text": [
      "{'_id': ObjectId('61d6ea09082b9beb7bca8b09'), 'num': 1, 'desc': 'MongoDB菜鸟教程', 'url': 'https://www.runoob.com/mongodb/mongodb-tutorial.html'}\n",
      "{'_id': ObjectId('61d6ea09082b9beb7bca8b0a'), 'num': 2, 'desc': 'PyMongo官方教程', 'url': 'https://pymongo.readthedocs.io/en/stable/index.html', 'date': datetime.datetime(2022, 1, 5, 23, 8)}\n",
      "{'_id': ObjectId('61d6ea09082b9beb7bca8b0b'), 'num': 3, 'desc': 'PyMongo菜鸟教程', 'url': 'https://www.runoob.com/python3/python-mongodb.html'}\n"
     ]
    }
   ],
   "source": [
    "## 1、删除文档：一定要制定条件，即使删除全部数据也要输入参数 {}\n",
    "# 删除一条文档\n",
    "flter = {'desc': '菜鸟教程：MongoDB教程'}\n",
    "client.study.mongo_study_sites.delete_one(flter)\n",
    "\n",
    "# 同时删除所有符合条件文档\n",
    "client.study.mongo_study_sites.delete_many(flter)\n",
    "\n",
    "for i in client.study.mongo_study_sites.find():\n",
    "    print(i)"
   ]
  },
  {
   "cell_type": "code",
   "execution_count": 21,
   "id": "d7564e6c-7338-477c-ae3d-b996589bbd2f",
   "metadata": {},
   "outputs": [
    {
     "data": {
      "text/plain": [
       "[]"
      ]
     },
     "execution_count": 21,
     "metadata": {},
     "output_type": "execute_result"
    }
   ],
   "source": [
    "## 2、删除集合\n",
    "client['study']['mongo_study_sites'].drop()\n",
    "client.study.list_collection_names()"
   ]
  },
  {
   "cell_type": "markdown",
   "id": "28a4f3d9-9816-4542-a685-4f2c462f12be",
   "metadata": {},
   "source": [
    "## 三、改"
   ]
  },
  {
   "cell_type": "code",
   "execution_count": 25,
   "id": "566ad539-5bb0-41dd-8d1c-bd8322ce3572",
   "metadata": {},
   "outputs": [
    {
     "name": "stdout",
     "output_type": "stream",
     "text": [
      "{'num': 1, 'desc': 'MongoDB菜鸟教程', 'url': 'https://www.runoob.com/mongodb/mongodb-tutorial.html'}\n",
      "{'num': 100, 'desc': 'PyMongo官方教程', 'url': 'https://pymongo.readthedocs.io/en/stable/index.html', 'date': datetime.datetime(2022, 1, 5, 23, 8)}\n",
      "{'num': 3, 'desc': 'PyMongo菜鸟教程', 'url': 'https://www.runoob.com/python3/python-mongodb.html'}\n",
      "= = = = = = = = = = = = = = = = = = = = = = = = = = = = = = = = = = = = = = = = = = = = = = = = = = \n",
      "{'num': 1, 'desc': 'MongoDB菜鸟教程', 'url': 'https://www.runoob.com/mongodb/mongodb-tutorial.html'}\n",
      "{'num': 100, 'desc': 'PyMongo官方教程', 'url': 'https://pymongo.readthedocs.io/en/stable/index.html', 'date': datetime.datetime(2022, 1, 5, 23, 8), 'score': '8分'}\n",
      "{'num': 3, 'desc': 'PyMongo菜鸟教程', 'url': 'https://www.runoob.com/python3/python-mongodb.html'}\n"
     ]
    }
   ],
   "source": [
    "## 1、修改文档\n",
    "# 修改一条文档\n",
    "flter = {'desc': 'PyMongo官方教程'}\n",
    "upd = {'$set': {'num': 100}}\n",
    "client['study']['mongo_study_sites'].update_one(flter, upd)\n",
    "\n",
    "# 修改多条文档\n",
    "client['study']['mongo_study_sites'].update_many(flter, upd)\n",
    "\n",
    "for i in client['study']['mongo_study_sites'].find({}, {'_id':0}):\n",
    "    print(i)\n",
    "\n",
    "print('= ' * 50)\n",
    "# 注意：如果修改字段不存在，则新增字段\n",
    "flter = {'desc': 'PyMongo官方教程'}\n",
    "upd = {'$set': {'score': '8分'}} #'score'不存在\n",
    "client['study']['mongo_study_sites'].update_one(flter, upd)\n",
    "\n",
    "for i in client['study']['mongo_study_sites'].find({}, {'_id':0}):\n",
    "    print(i)"
   ]
  },
  {
   "cell_type": "code",
   "execution_count": 26,
   "id": "30391011-079f-4b91-b57c-cfe2ea20d727",
   "metadata": {},
   "outputs": [
    {
     "name": "stdout",
     "output_type": "stream",
     "text": [
      "{'num': 1, 'desc': 'MongoDB菜鸟教程', 'url': 'https://www.runoob.com/mongodb/mongodb-tutorial.html'}\n",
      "{'num': 100, 'desc': 'PyMongo官方教程', 'url': 'https://pymongo.readthedocs.io/en/stable/index.html', 'date': datetime.datetime(2022, 1, 5, 23, 8)}\n",
      "{'num': 3, 'desc': 'PyMongo菜鸟教程', 'url': 'https://www.runoob.com/python3/python-mongodb.html'}\n"
     ]
    }
   ],
   "source": [
    "## 2、删除字段\n",
    "flter = {'desc': 'PyMongo官方教程'}\n",
    "upd = {'$unset': {'score': '8分'}} #删除score字段\n",
    "client['study']['mongo_study_sites'].update_one(flter, upd)\n",
    "\n",
    "for i in client['study']['mongo_study_sites'].find({}, {'_id':0}):\n",
    "    print(i)"
   ]
  },
  {
   "cell_type": "code",
   "execution_count": 27,
   "id": "e6f61888-9b19-4bc6-beda-1440bcfcdd2c",
   "metadata": {},
   "outputs": [
    {
     "name": "stdout",
     "output_type": "stream",
     "text": [
      "{'num': 1, 'desc': 'MongoDB菜鸟教程', 'url': 'https://www.runoob.com/mongodb/mongodb-tutorial.html'}\n",
      "{'num': 100, 'desc': 'PyMongo官方教程', 'url': 'https://pymongo.readthedocs.io/en/stable/index.html', 'DT': datetime.datetime(2022, 1, 5, 23, 8)}\n",
      "{'num': 3, 'desc': 'PyMongo菜鸟教程', 'url': 'https://www.runoob.com/python3/python-mongodb.html'}\n"
     ]
    }
   ],
   "source": [
    "## 3、修改字段名称\n",
    "flter = {'desc': 'PyMongo官方教程'}\n",
    "upd = {'$rename': {'date': 'DT'}} #重命名date为DT\n",
    "client['study']['mongo_study_sites'].update_one(flter, upd)\n",
    "\n",
    "for i in client['study']['mongo_study_sites'].find({}, {'_id':0}):\n",
    "    print(i)"
   ]
  },
  {
   "cell_type": "markdown",
   "id": "f24b5ae1-8b8a-469f-b171-4a7c413cb06e",
   "metadata": {},
   "source": [
    "## 四、查"
   ]
  },
  {
   "cell_type": "code",
   "execution_count": 30,
   "id": "a659c7ae-7116-4797-a6b2-9ddf662cbf4d",
   "metadata": {},
   "outputs": [
    {
     "name": "stdout",
     "output_type": "stream",
     "text": [
      "{'desc': 'PyMongo菜鸟教程', 'url': 'https://www.runoob.com/python3/python-mongodb.html'}\n",
      "= = = = = = = = = = = = = = = = = = = = = = = = = = = = = = = = = = = = = = = = = = = = = = = = = = \n",
      "_id\n",
      "num\n",
      "desc\n",
      "url\n"
     ]
    }
   ],
   "source": [
    "## 1、查询全部find()、查询一条find_one()\n",
    "flter = {'num': 3}\n",
    "for i in client.study.mongo_study_sites.find(flter, {'_id':0, 'desc':1, 'url':1}):  # 指定查询字段\n",
    "    print(i)\n",
    "    \n",
    "print('= ' * 50)\n",
    "\n",
    "for i in client['study']['mongo_study_sites'].find_one(flter):\n",
    "    print(i)"
   ]
  },
  {
   "cell_type": "code",
   "execution_count": 38,
   "id": "f2b18b24-ab24-437b-82c8-a5f0f0ba4763",
   "metadata": {},
   "outputs": [
    {
     "name": "stdout",
     "output_type": "stream",
     "text": [
      "{'num': 100, 'desc': 'PyMongo官方教程', 'url': 'https://pymongo.readthedocs.io/en/stable/index.html', 'DT': datetime.datetime(2022, 1, 5, 23, 8)}\n"
     ]
    }
   ],
   "source": [
    "## 2、查询存在某个字段的文档\n",
    "flter = {'DT': {'$exists': True}}\n",
    "for i in client.study.mongo_study_sites.find(flter, {'_id':0}):  # 指定查询字段\n",
    "    print(i)"
   ]
  },
  {
   "cell_type": "code",
   "execution_count": 41,
   "id": "d90c8876-de6e-4916-a466-e825af748323",
   "metadata": {},
   "outputs": [
    {
     "name": "stdout",
     "output_type": "stream",
     "text": [
      "{'num': 100, 'desc': 'PyMongo官方教程', 'url': 'https://pymongo.readthedocs.io/en/stable/index.html', 'DT': datetime.datetime(2022, 1, 5, 23, 8)}\n",
      "{'num': 3, 'desc': 'PyMongo菜鸟教程', 'url': 'https://www.runoob.com/python3/python-mongodb.html'}\n",
      "= = = = = = = = = = = = = = = = = = = = = = = = = = = = = = = = = = = = = = = = = = = = = = = = = = \n",
      "{'num': 1, 'desc': 'MongoDB菜鸟教程', 'url': 'https://www.runoob.com/mongodb/mongodb-tutorial.html'}\n",
      "{'num': 3, 'desc': 'PyMongo菜鸟教程', 'url': 'https://www.runoob.com/python3/python-mongodb.html'}\n"
     ]
    }
   ],
   "source": [
    "## 3、比较查询\n",
    "# $eq 等于\n",
    "# $ne 不等于\n",
    "# $gt 大于\n",
    "# $gte 大于等于\n",
    "# $lt 小于\n",
    "# $lte 小于等于\n",
    "# $in 存在于\n",
    "# $nin 不存在于\n",
    "flter = {'num': {'$gte': 2}}\n",
    "for i in client.study.mongo_study_sites.find(flter, {'_id':0}):  # 指定查询字段\n",
    "    print(i)\n",
    "    \n",
    "print('= ' * 50)\n",
    "\n",
    "flter = {'num': {'$in': [1,3]}}\n",
    "for i in client.study.mongo_study_sites.find(flter, {'_id':0}):  # 指定查询字段\n",
    "    print(i)"
   ]
  },
  {
   "cell_type": "code",
   "execution_count": 42,
   "id": "086c2268-bd4d-44f7-8be0-87584c92015d",
   "metadata": {},
   "outputs": [
    {
     "name": "stdout",
     "output_type": "stream",
     "text": [
      "{'num': 1, 'desc': 'MongoDB菜鸟教程', 'url': 'https://www.runoob.com/mongodb/mongodb-tutorial.html'}\n",
      "{'num': 3, 'desc': 'PyMongo菜鸟教程', 'url': 'https://www.runoob.com/python3/python-mongodb.html'}\n"
     ]
    }
   ],
   "source": [
    "## 4、逻辑查询\n",
    "# $and 且\n",
    "# $or 或\n",
    "# $not 非\n",
    "# $nor\n",
    "flter = {'$or':[{'desc': 'PyMongo菜鸟教程'}, {'num': 1}]}\n",
    "for i in client.study.mongo_study_sites.find(flter, {'_id':0}):  # 指定查询字段\n",
    "    print(i)"
   ]
  },
  {
   "cell_type": "code",
   "execution_count": 43,
   "id": "35de7765-a3fb-46f7-a38a-03a8efaf0349",
   "metadata": {},
   "outputs": [
    {
     "name": "stdout",
     "output_type": "stream",
     "text": [
      "{'num': 1, 'desc': 'MongoDB菜鸟教程', 'url': 'https://www.runoob.com/mongodb/mongodb-tutorial.html'}\n",
      "{'num': 3, 'desc': 'PyMongo菜鸟教程', 'url': 'https://www.runoob.com/python3/python-mongodb.html'}\n"
     ]
    }
   ],
   "source": [
    "## 5、正则表达式\n",
    "flter = {'desc': {'$regex': r'菜鸟教程$'}} #desc以“菜鸟教程”结尾\n",
    "for i in client.study.mongo_study_sites.find(flter, {'_id':0}):  # 指定查询字段\n",
    "    print(i)"
   ]
  },
  {
   "cell_type": "code",
   "execution_count": 44,
   "id": "3994fba0-9d21-4982-9a3a-b2c3e79c067a",
   "metadata": {},
   "outputs": [
    {
     "name": "stdout",
     "output_type": "stream",
     "text": [
      "{'num': 1, 'desc': 'MongoDB菜鸟教程', 'url': 'https://www.runoob.com/mongodb/mongodb-tutorial.html'}\n"
     ]
    }
   ],
   "source": [
    "## 6、指定返回文档数\n",
    "flter = {'desc': {'$regex': r'菜鸟教程$'}} #desc以“菜鸟教程”结尾\n",
    "for i in client.study.mongo_study_sites.find(flter, {'_id':0}).limit(1):  # 指定查询字段\n",
    "    print(i)"
   ]
  },
  {
   "cell_type": "code",
   "execution_count": 67,
   "id": "6cc3874a-cd6b-4ad1-9dce-d5e5b3536385",
   "metadata": {},
   "outputs": [
    {
     "name": "stdout",
     "output_type": "stream",
     "text": [
      "{'num': 100, 'desc': 'PyMongo官方教程', 'url': 'https://pymongo.readthedocs.io/en/stable/index.html', 'DT': datetime.datetime(2022, 1, 5, 23, 8)}\n",
      "{'num': 3, 'desc': 'PyMongo菜鸟教程', 'url': 'https://www.runoob.com/python3/python-mongodb.html'}\n",
      "{'num': 1, 'desc': 'MongoDB菜鸟教程', 'url': 'https://www.runoob.com/mongodb/mongodb-tutorial.html'}\n"
     ]
    }
   ],
   "source": [
    "## 7、排序\n",
    "for i in client.study.mongo_study_sites.find({}, {'_id':0}).sort('num',-1):  # -1倒序，1（或省缺）正序\n",
    "    print(i)"
   ]
  },
  {
   "cell_type": "markdown",
   "id": "0e92609e-8f33-4c4a-a4bd-3bffeec10642",
   "metadata": {},
   "source": [
    "## 五、聚合操作"
   ]
  },
  {
   "cell_type": "code",
   "execution_count": 71,
   "id": "777a31ee-c78a-4a1a-a616-732090ca00ad",
   "metadata": {},
   "outputs": [
    {
     "name": "stdout",
     "output_type": "stream",
     "text": [
      "{'_id': ObjectId('61d70149082b9beb7bca8b1b'), 'name': '张三', 'age': 26, 'sex': '男', 'company': 'A公司', 'income': 6000}\n",
      "{'_id': ObjectId('61d70149082b9beb7bca8b1c'), 'name': '李四', 'age': 30, 'sex': '男', 'company': 'B公司', 'income': 5000}\n",
      "{'_id': ObjectId('61d70149082b9beb7bca8b1d'), 'name': '小红', 'age': 25, 'sex': '女', 'company': 'A公司', 'income': 5500}\n",
      "{'_id': ObjectId('61d70149082b9beb7bca8b1e'), 'name': '王二', 'age': 26, 'sex': '男', 'company': 'A公司', 'income': 9000}\n",
      "{'_id': ObjectId('61d70149082b9beb7bca8b1f'), 'name': '小芳', 'age': 26, 'sex': '女', 'company': 'B公司', 'income': 7000}\n"
     ]
    }
   ],
   "source": [
    "## 0、创建数据集\n",
    "docs_list = [{'name':'张三', 'age': 26, 'sex':'男', 'company':'A公司', 'income':6000},\n",
    "             {'name':'李四', 'age': 30, 'sex':'男', 'company':'B公司', 'income':5000},\n",
    "             {'name':'小红', 'age': 25, 'sex':'女', 'company':'A公司', 'income':5500},\n",
    "             {'name':'王二', 'age': 26, 'sex':'男', 'company':'A公司', 'income':9000},\n",
    "             {'name':'小芳', 'age': 26, 'sex':'女', 'company':'B公司', 'income':7000}]\n",
    "\n",
    "client['study']['employee'].insert_many(docs_list)\n",
    "for i in client['study']['employee'].find({}):\n",
    "    print(i)"
   ]
  },
  {
   "cell_type": "code",
   "execution_count": 72,
   "id": "b9ce95f1-a1eb-4f7a-bdd5-c8f746f94b4c",
   "metadata": {},
   "outputs": [
    {
     "name": "stdout",
     "output_type": "stream",
     "text": [
      "{'_id': '男', 'cnt': 3}\n",
      "{'_id': '女', 'cnt': 2}\n"
     ]
    }
   ],
   "source": [
    "## 1、分组计数 '$sum':1\n",
    "grp = {'$group': {'_id':'$sex', 'cnt':{'$sum':1}}}\n",
    "for i in client['study']['employee'].aggregate([grp]): #注意参数为列表\n",
    "    print(i)"
   ]
  },
  {
   "cell_type": "code",
   "execution_count": 73,
   "id": "e2a07b30-f0b8-4c83-a54e-1c5c0f58b9a6",
   "metadata": {},
   "outputs": [
    {
     "name": "stdout",
     "output_type": "stream",
     "text": [
      "{'_id': '男', 'max_income': 9000, 'min_income': 5000}\n",
      "{'_id': '女', 'max_income': 7000, 'min_income': 5500}\n"
     ]
    }
   ],
   "source": [
    "## 2、分组最值 $max、$min\n",
    "grp = {'$group': {'_id':'$sex', 'max_income':{'$max':'$income'}, 'min_income':{'$min':'$income'}}} #男女均龄\n",
    "for i in client['study']['employee'].aggregate([grp]): #注意参数为列表\n",
    "    print(i)"
   ]
  },
  {
   "cell_type": "code",
   "execution_count": 74,
   "id": "1451ec48-d30c-4b60-9a99-ed9bf90f096c",
   "metadata": {},
   "outputs": [
    {
     "name": "stdout",
     "output_type": "stream",
     "text": [
      "{'_id': '男', 'sum_income': 20000, 'avg_income': 6666.666666666667}\n",
      "{'_id': '女', 'sum_income': 12500, 'avg_income': 6250.0}\n"
     ]
    }
   ],
   "source": [
    "## 3、分组平均$avg、求和$sum\n",
    "grp = {'$group': {'_id':'$sex', 'sum_income':{'$sum':'$income'}, 'avg_income':{'$avg':'$income'}}} \n",
    "for i in client['study']['employee'].aggregate([grp]): #注意参数为列表\n",
    "    print(i)"
   ]
  },
  {
   "cell_type": "code",
   "execution_count": 75,
   "id": "fe205139-64f4-4a35-99e0-c0b916013650",
   "metadata": {},
   "outputs": [
    {
     "name": "stdout",
     "output_type": "stream",
     "text": [
      "{'_id': ObjectId('61d70149082b9beb7bca8b1c'), 'name': '李四', 'age': 30, 'sex': '男', 'company': 'B公司', 'income': 5000}\n",
      "{'_id': ObjectId('61d70149082b9beb7bca8b1d'), 'name': '小红', 'age': 25, 'sex': '女', 'company': 'A公司', 'income': 5500}\n",
      "{'_id': ObjectId('61d70149082b9beb7bca8b1b'), 'name': '张三', 'age': 26, 'sex': '男', 'company': 'A公司', 'income': 6000}\n",
      "{'_id': ObjectId('61d70149082b9beb7bca8b1f'), 'name': '小芳', 'age': 26, 'sex': '女', 'company': 'B公司', 'income': 7000}\n",
      "{'_id': ObjectId('61d70149082b9beb7bca8b1e'), 'name': '王二', 'age': 26, 'sex': '男', 'company': 'A公司', 'income': 9000}\n"
     ]
    }
   ],
   "source": [
    "for i in client['study']['employee'].find({}).sort('income', 1):\n",
    "    print(i)"
   ]
  },
  {
   "cell_type": "code",
   "execution_count": 76,
   "id": "40a8b5b7-07e2-41d5-b786-6040ee23c85e",
   "metadata": {},
   "outputs": [
    {
     "name": "stdout",
     "output_type": "stream",
     "text": [
      "{'_id': '男', 'first_income': 5000, 'last_income': 9000}\n",
      "{'_id': '女', 'first_income': 5500, 'last_income': 7000}\n"
     ]
    }
   ],
   "source": [
    "## 4、最前$first、最后$last：分组排序取其最，类似窗口函数\n",
    "srt = {'$sort':{'income':1}}\n",
    "grp = {'$group': {'_id':'$sex', 'first_income':{'$first':'$income'}, 'last_income':{'$last':'$income'}}} \n",
    "for i in client['study']['employee'].aggregate([srt,grp]): #注意参数为列表\n",
    "    print(i)"
   ]
  },
  {
   "cell_type": "code",
   "execution_count": 77,
   "id": "e573ba28-2eef-4c04-8f03-bbc280203325",
   "metadata": {},
   "outputs": [
    {
     "name": "stdout",
     "output_type": "stream",
     "text": [
      "{'_id': '男', 'cnt': 3}\n",
      "{'_id': '女', 'cnt': 1}\n"
     ]
    }
   ],
   "source": [
    "## 5、条件+分组\n",
    "mach = {'$match': {'age':{'$gt':25}}} #年龄>25\n",
    "grp = {'$group': {'_id':'$sex', 'cnt':{'$sum':1}}}\n",
    "for i in client['study']['employee'].aggregate([mach, grp]): #注意参数为列表\n",
    "    print(i)"
   ]
  },
  {
   "cell_type": "code",
   "execution_count": 82,
   "id": "127748d4-1a89-4395-b2e7-709b33bd00b3",
   "metadata": {},
   "outputs": [
    {
     "name": "stdout",
     "output_type": "stream",
     "text": [
      "{'_id': {'公司': 'A公司', '性别': '男'}, '最高工资': 9000}\n",
      "{'_id': {'公司': 'B公司', '性别': '女'}, '最高工资': 7000}\n",
      "{'_id': {'公司': 'A公司', '性别': '女'}, '最高工资': 5500}\n",
      "{'_id': {'公司': 'B公司', '性别': '男'}, '最高工资': 5000}\n"
     ]
    }
   ],
   "source": [
    "## 6、多字段分组\n",
    "grps = {'$group': {'_id':{'公司':'$company','性别':'$sex'}, '最高工资':{'$max':'$income'}}}\n",
    "for i in client['study']['employee'].aggregate([grps]): #注意参数为列表\n",
    "    print(i)"
   ]
  },
  {
   "cell_type": "code",
   "execution_count": 85,
   "id": "0704fb3a-505a-4640-95cc-68a05c6bacbb",
   "metadata": {},
   "outputs": [
    {
     "name": "stdout",
     "output_type": "stream",
     "text": [
      "{'_id': 'B公司', 'list_sex': ['男', '女']}\n",
      "{'_id': 'A公司', 'list_sex': ['男', '女']}\n",
      "= = = = = = = = = = = = = = = = = = = = = = = = = = = = = = = = = = = = = = = = = = = = = = = = = = \n",
      "{'_id': 'B公司', 'list_sex': ['男', '女']}\n",
      "{'_id': 'A公司', 'list_sex': ['男', '女', '男']}\n"
     ]
    }
   ],
   "source": [
    "## 7、分组汇集列表\n",
    "#去重 $addToSet\n",
    "grp1 = {'$group': {'_id':'$company', 'list_sex':{'$addToSet':'$sex'}}}\n",
    "for i in client['study']['employee'].aggregate([grp1]): #注意参数为列表\n",
    "    print(i)\n",
    "    \n",
    "print('= ' * 50)    \n",
    "#不去重 $push\n",
    "grp2 = {'$group': {'_id':'$company', 'list_sex':{'$push':'$sex'}}}\n",
    "for i in client['study']['employee'].aggregate([grp2]): #注意参数为列表\n",
    "    print(i)\n"
   ]
  },
  {
   "cell_type": "code",
   "execution_count": 87,
   "id": "ca8d1fd3-dcc8-4692-bcf4-4ddceb91fc8b",
   "metadata": {},
   "outputs": [
    {
     "data": {
      "text/plain": [
       "5"
      ]
     },
     "execution_count": 87,
     "metadata": {},
     "output_type": "execute_result"
    }
   ],
   "source": [
    "## 仅查看文档数可用 count_documents()\n",
    "client['study']['employee'].count_documents({})"
   ]
  },
  {
   "cell_type": "markdown",
   "id": "5d664b83-b594-4ef7-bb9e-34256ebd57f7",
   "metadata": {},
   "source": [
    "## 六、索引"
   ]
  },
  {
   "cell_type": "code",
   "execution_count": 65,
   "id": "84f9c908-cdc0-4ff4-a2a5-21eec1a03dcd",
   "metadata": {},
   "outputs": [
    {
     "name": "stdout",
     "output_type": "stream",
     "text": [
      "['_id_', 'desc_1']\n",
      "E11000 duplicate key error collection: study.mongo_study_sites index: desc_1 dup key: { desc: \"MongoDB菜鸟教程\" }, full error: {'index': 0, 'code': 11000, 'keyPattern': {'desc': 1}, 'keyValue': {'desc': 'MongoDB菜鸟教程'}, 'errmsg': 'E11000 duplicate key error collection: study.mongo_study_sites index: desc_1 dup key: { desc: \"MongoDB菜鸟教程\" }'}\n"
     ]
    }
   ],
   "source": [
    "## 创建索引\n",
    "client['study']['mongo_study_sites'].create_index([('desc', pymongo.ASCENDING)], unique=True) # 唯一索引，可防止重复数据\n",
    "\n",
    "# 查看索引信息\n",
    "print(list(client['study']['mongo_study_sites'].index_information()))  #'_id'是默认的索引\n",
    "\n",
    "# 尝试插入一条重复数据\n",
    "doc = {'desc': 'MongoDB菜鸟教程'}\n",
    "try:\n",
    "    client['study']['mongo_study_sites'].insert_one(doc)\n",
    "except Exception as e: #查看错误\n",
    "    print(str(e))"
   ]
  },
  {
   "cell_type": "code",
   "execution_count": null,
   "id": "9ec863bf-8a3f-4d3a-81a7-d2ad8e7aaafe",
   "metadata": {},
   "outputs": [],
   "source": []
  },
  {
   "cell_type": "code",
   "execution_count": null,
   "id": "74876d50-2a53-4946-a4b0-66c24159a188",
   "metadata": {},
   "outputs": [],
   "source": []
  },
  {
   "cell_type": "code",
   "execution_count": null,
   "id": "4b73c2fd-c70e-4f3b-8358-369d0d54dc97",
   "metadata": {},
   "outputs": [],
   "source": []
  },
  {
   "cell_type": "code",
   "execution_count": null,
   "id": "ba1c7611-ef32-4752-b617-9d1f5ece2b1a",
   "metadata": {},
   "outputs": [],
   "source": []
  },
  {
   "cell_type": "code",
   "execution_count": null,
   "id": "1047e9db-24a7-4beb-9fdb-8e6206d576dc",
   "metadata": {},
   "outputs": [],
   "source": []
  }
 ],
 "metadata": {
  "kernelspec": {
   "display_name": "Python 3",
   "language": "python",
   "name": "python3"
  },
  "language_info": {
   "codemirror_mode": {
    "name": "ipython",
    "version": 3
   },
   "file_extension": ".py",
   "mimetype": "text/x-python",
   "name": "python",
   "nbconvert_exporter": "python",
   "pygments_lexer": "ipython3",
   "version": "3.8.8"
  }
 },
 "nbformat": 4,
 "nbformat_minor": 5
}
