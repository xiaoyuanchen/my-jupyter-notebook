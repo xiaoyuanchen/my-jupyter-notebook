{
 "cells": [
  {
   "cell_type": "markdown",
   "id": "0fe0702c-c0a4-4c3e-9853-c18ba77faef2",
   "metadata": {},
   "source": [
    "# MD5加密"
   ]
  },
  {
   "cell_type": "code",
   "execution_count": 2,
   "id": "ff4e1878-4a17-4ddc-8892-8584f3462b4b",
   "metadata": {},
   "outputs": [],
   "source": [
    "import hashlib"
   ]
  },
  {
   "cell_type": "code",
   "execution_count": 8,
   "id": "b54d7b99-56c5-4fce-9f80-9e9021143aad",
   "metadata": {},
   "outputs": [
    {
     "data": {
      "text/plain": [
       "'013b722d19c7bedef2f2a849a1337046'"
      ]
     },
     "execution_count": 8,
     "metadata": {},
     "output_type": "execute_result"
    }
   ],
   "source": [
    "# 英文进行md5加密\n",
    "hashlib.md5(b'1201201802672').hexdigest()"
   ]
  },
  {
   "cell_type": "code",
   "execution_count": 9,
   "id": "d20ba677-ea04-445d-aa96-0c0ad7397c9d",
   "metadata": {},
   "outputs": [
    {
     "data": {
      "text/plain": [
       "'013b722d19c7bedef2f2a849a1337046'"
      ]
     },
     "execution_count": 9,
     "metadata": {},
     "output_type": "execute_result"
    }
   ],
   "source": [
    "# 中文加密\n",
    "data = '1201201802672'\n",
    "hashlib.md5(data.encode(encoding='UTF-8')).hexdigest()"
   ]
  },
  {
   "cell_type": "code",
   "execution_count": 4,
   "id": "4b7f9837-ee33-47f5-80c7-d879419e1b78",
   "metadata": {},
   "outputs": [
    {
     "data": {
      "text/plain": [
       "'7c1ee68112afe80ff74741e7354f7056'"
      ]
     },
     "execution_count": 4,
     "metadata": {},
     "output_type": "execute_result"
    }
   ],
   "source": [
    "# 中文加密\n",
    "sql = 'select * from table where a<>0;'\n",
    "hashlib.md5(sql.encode(encoding='UTF-8')).hexdigest()"
   ]
  },
  {
   "cell_type": "code",
   "execution_count": null,
   "id": "787484ef-a6c8-4219-be9e-dd6d0d7e4eff",
   "metadata": {},
   "outputs": [],
   "source": []
  }
 ],
 "metadata": {
  "kernelspec": {
   "display_name": "Python 3",
   "language": "python",
   "name": "python3"
  },
  "language_info": {
   "codemirror_mode": {
    "name": "ipython",
    "version": 3
   },
   "file_extension": ".py",
   "mimetype": "text/x-python",
   "name": "python",
   "nbconvert_exporter": "python",
   "pygments_lexer": "ipython3",
   "version": "3.8.8"
  }
 },
 "nbformat": 4,
 "nbformat_minor": 5
}
